{
 "cells": [
  {
   "cell_type": "code",
   "execution_count": 15,
   "outputs": [],
   "source": [
    "import pandas as pd\n",
    "import re\n",
    "pat=r'1[3-9]\\d{9}'\n",
    "data = pd.read_csv('1.csv',encoding='utf-8')"
   ],
   "metadata": {
    "collapsed": false,
    "pycharm": {
     "name": "#%%\n"
    }
   }
  },
  {
   "cell_type": "code",
   "execution_count": 16,
   "outputs": [
    {
     "name": "stderr",
     "output_type": "stream",
     "text": [
      "C:\\Users\\Asus\\AppData\\Local\\Temp\\ipykernel_3496\\3469141852.py:9: SettingWithCopyWarning: \n",
      "A value is trying to be set on a copy of a slice from a DataFrame\n",
      "\n",
      "See the caveats in the documentation: https://pandas.pydata.org/pandas-docs/stable/user_guide/indexing.html#returning-a-view-versus-a-copy\n",
      "  df1.loc[i, '电话'] = a[0] if a else None\n",
      "C:\\Users\\Asus\\AppData\\Local\\Temp\\ipykernel_3496\\3469141852.py:11: SettingWithCopyWarning: \n",
      "A value is trying to be set on a copy of a slice from a DataFrame\n",
      "\n",
      "See the caveats in the documentation: https://pandas.pydata.org/pandas-docs/stable/user_guide/indexing.html#returning-a-view-versus-a-copy\n",
      "  df1.dropna(axis=0, inplace=True)\n"
     ]
    }
   ],
   "source": [
    "list = data.values.tolist()[1]\n",
    "data.columns = list\n",
    "data.drop([0], inplace=True)\n",
    "data.drop([1], inplace=True)\n",
    "data = data.reset_index(drop=True)\n",
    "df1 = data[['电话', '企业名称']]\n",
    "for i in range(len(df1['电话'])):\n",
    "    a = re.compile(pat).findall(data.loc[i, '电话'])\n",
    "    df1.loc[i, '电话'] = a[0] if a else None\n",
    "# 删除有空值的行\n",
    "df1.dropna(axis=0, inplace=True)"
   ],
   "metadata": {
    "collapsed": false,
    "pycharm": {
     "name": "#%%\n"
    }
   }
  },
  {
   "cell_type": "code",
   "execution_count": 19,
   "outputs": [],
   "source": [
    "df1.to_csv (\"../qwe.csv\", mode=\"a\" ,index = False, header=False)"
   ],
   "metadata": {
    "collapsed": false,
    "pycharm": {
     "name": "#%%\n"
    }
   }
  },
  {
   "cell_type": "code",
   "execution_count": 18,
   "outputs": [
    {
     "data": {
      "text/plain": "              电话                 企业名称\n0    13728305873         安舒(深圳)装修有限公司\n1    13686450135       华越(深圳)装修材料有限公司\n2    18124793922     尚品(深圳)装修装饰工程有限公司\n3    15986635301     翔宏(深圳)装修设计工程有限公司\n4    15976887245   优居美家(深圳)装修设计工程有限公司\n..           ...                  ...\n359  13622396731    深圳市龙岗区南湾街道燕璇服装修改店\n360  15915339498    深圳市龙岗区汇宏房屋装修工程服务部\n361  13715336166  深圳市龙岗区坂田街道美达装修装饰工程部\n362  18928458566    深圳市龙岗区园山街道中发装修材料店\n363  13699818831  深圳市宝安区松岗街道志航装修服务工作室\n\n[361 rows x 2 columns]",
      "text/html": "<div>\n<style scoped>\n    .dataframe tbody tr th:only-of-type {\n        vertical-align: middle;\n    }\n\n    .dataframe tbody tr th {\n        vertical-align: top;\n    }\n\n    .dataframe thead th {\n        text-align: right;\n    }\n</style>\n<table border=\"1\" class=\"dataframe\">\n  <thead>\n    <tr style=\"text-align: right;\">\n      <th></th>\n      <th>电话</th>\n      <th>企业名称</th>\n    </tr>\n  </thead>\n  <tbody>\n    <tr>\n      <th>0</th>\n      <td>13728305873</td>\n      <td>安舒(深圳)装修有限公司</td>\n    </tr>\n    <tr>\n      <th>1</th>\n      <td>13686450135</td>\n      <td>华越(深圳)装修材料有限公司</td>\n    </tr>\n    <tr>\n      <th>2</th>\n      <td>18124793922</td>\n      <td>尚品(深圳)装修装饰工程有限公司</td>\n    </tr>\n    <tr>\n      <th>3</th>\n      <td>15986635301</td>\n      <td>翔宏(深圳)装修设计工程有限公司</td>\n    </tr>\n    <tr>\n      <th>4</th>\n      <td>15976887245</td>\n      <td>优居美家(深圳)装修设计工程有限公司</td>\n    </tr>\n    <tr>\n      <th>...</th>\n      <td>...</td>\n      <td>...</td>\n    </tr>\n    <tr>\n      <th>359</th>\n      <td>13622396731</td>\n      <td>深圳市龙岗区南湾街道燕璇服装修改店</td>\n    </tr>\n    <tr>\n      <th>360</th>\n      <td>15915339498</td>\n      <td>深圳市龙岗区汇宏房屋装修工程服务部</td>\n    </tr>\n    <tr>\n      <th>361</th>\n      <td>13715336166</td>\n      <td>深圳市龙岗区坂田街道美达装修装饰工程部</td>\n    </tr>\n    <tr>\n      <th>362</th>\n      <td>18928458566</td>\n      <td>深圳市龙岗区园山街道中发装修材料店</td>\n    </tr>\n    <tr>\n      <th>363</th>\n      <td>13699818831</td>\n      <td>深圳市宝安区松岗街道志航装修服务工作室</td>\n    </tr>\n  </tbody>\n</table>\n<p>361 rows × 2 columns</p>\n</div>"
     },
     "execution_count": 18,
     "metadata": {},
     "output_type": "execute_result"
    }
   ],
   "source": [
    "df1"
   ],
   "metadata": {
    "collapsed": false,
    "pycharm": {
     "name": "#%%\n"
    }
   }
  },
  {
   "cell_type": "code",
   "execution_count": 17,
   "outputs": [],
   "source": [],
   "metadata": {
    "collapsed": false,
    "pycharm": {
     "name": "#%%\n"
    }
   }
  }
 ],
 "metadata": {
  "kernelspec": {
   "display_name": "Python 3",
   "language": "python",
   "name": "python3"
  },
  "language_info": {
   "codemirror_mode": {
    "name": "ipython",
    "version": 2
   },
   "file_extension": ".py",
   "mimetype": "text/x-python",
   "name": "python",
   "nbconvert_exporter": "python",
   "pygments_lexer": "ipython2",
   "version": "2.7.6"
  }
 },
 "nbformat": 4,
 "nbformat_minor": 0
}